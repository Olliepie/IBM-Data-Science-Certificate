{
 "cells": [
  {
   "cell_type": "markdown",
   "id": "749da327-bcf8-4164-bd3f-9add11170906",
   "metadata": {},
   "source": [
    "# My Jupyter Notebook on IBM Watson Studio"
   ]
  },
  {
   "cell_type": "markdown",
   "id": "fe988877-c467-475d-9417-f83191ce1820",
   "metadata": {},
   "source": [
    "**Xinning He**\n",
    "I am currently working as a business integration & architecture analyst, and I would like to work as a data scientist in the future"
   ]
  },
  {
   "cell_type": "markdown",
   "id": "f2eb356f-78a3-4fd2-a54b-e677afbcf4b2",
   "metadata": {},
   "source": [
    "_I am interested in data science because I am so into the potentail of big data. I have the right quality as well as working experience in it._"
   ]
  },
  {
   "cell_type": "markdown",
   "id": "654532fe-2d84-498b-8293-1b702cb57468",
   "metadata": {},
   "source": [
    "### cell 5 is supposed to be get the output of 1+2"
   ]
  },
  {
   "cell_type": "code",
   "execution_count": 5,
   "id": "d8b0ca76-7915-4719-aa62-07055a535730",
   "metadata": {},
   "outputs": [
    {
     "data": {
      "text/plain": [
       "3"
      ]
     },
     "execution_count": 5,
     "metadata": {},
     "output_type": "execute_result"
    }
   ],
   "source": [
    "1+2"
   ]
  },
  {
   "cell_type": "markdown",
   "id": "b677a29a-f3e2-4269-b66f-c16b506cce76",
   "metadata": {},
   "source": [
    "'this is code highlighting'\n",
    "~this is written to test strikethrough~\n",
    "> This line is written to test blocked quotes and quote break."
   ]
  },
  {
   "cell_type": "code",
   "execution_count": null,
   "id": "5c968faf-c108-4286-a061-c8e44b000939",
   "metadata": {},
   "outputs": [],
   "source": []
  }
 ],
 "metadata": {
  "kernelspec": {
   "display_name": "Python",
   "language": "python",
   "name": "conda-env-python-py"
  },
  "language_info": {
   "codemirror_mode": {
    "name": "ipython",
    "version": 3
   },
   "file_extension": ".py",
   "mimetype": "text/x-python",
   "name": "python",
   "nbconvert_exporter": "python",
   "pygments_lexer": "ipython3",
   "version": "3.7.12"
  }
 },
 "nbformat": 4,
 "nbformat_minor": 5
}
